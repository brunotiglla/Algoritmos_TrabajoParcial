{
  "nbformat": 4,
  "nbformat_minor": 0,
  "metadata": {
    "colab": {
      "name": "U20181A686",
      "provenance": [],
      "collapsed_sections": [],
      "authorship_tag": "ABX9TyNQvotcThHSK9mhAQ3rAmzi",
      "include_colab_link": true
    },
    "kernelspec": {
      "name": "python3",
      "display_name": "Python 3"
    },
    "language_info": {
      "name": "python"
    }
  },
  "cells": [
    {
      "cell_type": "markdown",
      "metadata": {
        "id": "view-in-github",
        "colab_type": "text"
      },
      "source": [
        "<a href=\"https://colab.research.google.com/github/brunotiglla/Algoritmos_TrabajoParcial/blob/main/U20181A686.ipynb\" target=\"_parent\"><img src=\"https://colab.research.google.com/assets/colab-badge.svg\" alt=\"Open In Colab\"/></a>"
      ]
    },
    {
      "cell_type": "code",
      "metadata": {
        "colab": {
          "base_uri": "https://localhost:8080/"
        },
        "id": "8EsMur147p5y",
        "outputId": "7ef32acc-bbc3-4c47-9c21-eaefdf2e2f9b"
      },
      "source": [
        "import pandas as pd\n",
        "import numpy as np\n",
        "import networkx as nx\n",
        "import matplotlib.pyplot as plt\n",
        "import math\n",
        "import heapq as hq\n",
        "import graphviz as gv\n",
        "!git clone https://github.com/lmcanavals/algorithmic_complexity.git\n",
        "from algorithmic_complexity.aclib import graphstuff as gs"
      ],
      "execution_count": 1,
      "outputs": [
        {
          "output_type": "stream",
          "text": [
            "Cloning into 'algorithmic_complexity'...\n",
            "remote: Enumerating objects: 268, done.\u001b[K\n",
            "remote: Counting objects: 100% (268/268), done.\u001b[K\n",
            "remote: Compressing objects: 100% (263/263), done.\u001b[K\n",
            "remote: Total 268 (delta 150), reused 0 (delta 0), pack-reused 0\u001b[K\n",
            "Receiving objects: 100% (268/268), 274.11 KiB | 3.86 MiB/s, done.\n",
            "Resolving deltas: 100% (150/150), done.\n"
          ],
          "name": "stdout"
        }
      ]
    },
    {
      "cell_type": "code",
      "metadata": {
        "id": "Ly2mtG3x79JV"
      },
      "source": [
        "base = \"https://raw.githubusercontent.com/lmcanavals/algorithmic_complexity/main/data/\"\n",
        "csv = \"poblaciones.csv\"\n",
        "DATA_SET = pd.read_csv(f\"{base}{csv}\")"
      ],
      "execution_count": 2,
      "outputs": []
    },
    {
      "cell_type": "markdown",
      "metadata": {
        "id": "OKDCNDhrB9D_"
      },
      "source": [
        "### CODIGO MEJORAD BY JOSIAS"
      ]
    },
    {
      "cell_type": "code",
      "metadata": {
        "id": "HbuanDKhB8rg"
      },
      "source": [
        "def nxAgv(G, weighted=False, params={'rankdir': 'LR', 'size': '6'},\n",
        "          path=None, pathparams={'color':'orangered'}, nodeinfo=False):\n",
        "  if G.is_directed():\n",
        "    g = gv.Digraph('G')\n",
        "  else:\n",
        "    g = gv.Graph('G', strict=True)\n",
        "  g.attr(**params)\n",
        "\n",
        "  for u in G.nodes:\n",
        "    if nodeinfo:\n",
        "      g.node(str(u), **dict(G.nodes[u]))\n",
        "    else:\n",
        "      g.node(str(u))\n",
        "\n",
        " \n",
        "    \n",
        "  for u, v in G.edges():\n",
        "    #print(v,path[v], path)\n",
        "    pp = {} if path and path[v] == u else {}\n",
        "\n",
        "    if weighted:\n",
        "      g.edge(str(u), str(v), f\"{G.edges[u, v]['weight']}\", **pp)\n",
        "    else:\n",
        "      g.edge(str(u), str(v), **pp)\n",
        "  for u in range(len(path)-1):\n",
        "    v = u+1\n",
        "    pp = pathparams\n",
        "    g.edge(str(path[u]), str(path[v]), f\"{G.edges[path[u], path[v]]['weight']}\", **pp)       \n",
        "\n",
        "  return g"
      ],
      "execution_count": 334,
      "outputs": []
    },
    {
      "cell_type": "markdown",
      "metadata": {
        "id": "kghBjSjO9_ED"
      },
      "source": [
        "####Calcular Distancia"
      ]
    },
    {
      "cell_type": "code",
      "metadata": {
        "id": "4eT3W2Wl8LyM"
      },
      "source": [
        "def calcularDistancia(cp1,cp2):\n",
        "    la1, lo1 = float(cp1['LATITUD']), float(cp1['LONGITUD'])\n",
        "    la2, lo2 = float(cp2['LATITUD']), float(cp2['LONGITUD'])\n",
        "    \n",
        "    lo1, la1, lo2, la2 = map(math.radians, [lo1, la1, lo2, la2])\n",
        "    dlo = lo2 - lo1\n",
        "    dla = la2 - la1\n",
        "    a = math.sin(dla/2)**2 + math.cos(la1) * math.cos(la2) * math.sin(dlo/2)**2\n",
        "    c = 2 * math.asin(math.sqrt(a))\n",
        "    r = 6371\n",
        "\n",
        "    return round(c * r, 2)"
      ],
      "execution_count": 335,
      "outputs": []
    },
    {
      "cell_type": "markdown",
      "metadata": {
        "id": "ASgv6hZ7-DMr"
      },
      "source": [
        "####Area de estudios de provincia a provincia"
      ]
    },
    {
      "cell_type": "code",
      "metadata": {
        "id": "0aAvH7Th8P71"
      },
      "source": [
        "def Area_Estudio(DATA_SET, Nom_Provinci, Nom_Distrito):\n",
        "\n",
        "    list_Provincia = DATA_SET['PROVINCIA'].unique() #no repetir\n",
        "\n",
        "    Provincia = dict()\n",
        "\n",
        "    for i, nom1 in enumerate(list_Provincia):\n",
        "        Provincia[nom1] = DATA_SET[DATA_SET['PROVINCIA'] == nom1]\n",
        "\n",
        "    #---#\n",
        "\n",
        "    list_Distrito = Provincia[Nom_Provinci]['DISTRITO'].unique()\n",
        "\n",
        "    Distrito = dict()\n",
        "\n",
        "    for j, nom2 in enumerate(list_Distrito):\n",
        "        Distrito[nom2] = Provincia[Nom_Provinci][Provincia[Nom_Provinci]['DISTRITO'] == nom2]\n",
        "    \n",
        "    CentrosPoblados = Distrito[Nom_Distrito]\n",
        "    #--#\n",
        "    return CentrosPoblados"
      ],
      "execution_count": 336,
      "outputs": []
    },
    {
      "cell_type": "markdown",
      "metadata": {
        "id": "SXdJSVf4-INr"
      },
      "source": [
        "####Area de estudios de Distritos a Distritos"
      ]
    },
    {
      "cell_type": "code",
      "metadata": {
        "id": "jmCuTzIn8TId"
      },
      "source": [
        "def Area_Estudio_Mayor(DATA_SET, Nom_Provinci):\n",
        "\n",
        "    list_Provincia = DATA_SET['PROVINCIA'].unique() #no repetir\n",
        "\n",
        "    Provincia = dict()\n",
        "\n",
        "    for i, nom1 in enumerate(list_Provincia):\n",
        "        Provincia[nom1] = DATA_SET[DATA_SET['PROVINCIA'] == nom1]\n",
        "\n",
        "    #---#\n",
        " \n",
        "    CentrosPoblados = Provincia[Nom_Provinci]\n",
        "    #--#\n",
        "    return CentrosPoblados"
      ],
      "execution_count": 337,
      "outputs": []
    },
    {
      "cell_type": "markdown",
      "metadata": {
        "id": "I-Fa0c7o-NbS"
      },
      "source": [
        "###Ejemplos"
      ]
    },
    {
      "cell_type": "code",
      "metadata": {
        "colab": {
          "base_uri": "https://localhost:8080/",
          "height": 314
        },
        "id": "N_572ZBS8cML",
        "outputId": "0cec1b59-cb8e-41f5-9283-4d717cc4b2c3"
      },
      "source": [
        "Zona = Area_Estudio(DATA_SET,'CHICLAYO', 'OYOTUN')\n",
        "Zona"
      ],
      "execution_count": 338,
      "outputs": [
        {
          "output_type": "execute_result",
          "data": {
            "text/html": [
              "<div>\n",
              "<style scoped>\n",
              "    .dataframe tbody tr th:only-of-type {\n",
              "        vertical-align: middle;\n",
              "    }\n",
              "\n",
              "    .dataframe tbody tr th {\n",
              "        vertical-align: top;\n",
              "    }\n",
              "\n",
              "    .dataframe thead th {\n",
              "        text-align: right;\n",
              "    }\n",
              "</style>\n",
              "<table border=\"1\" class=\"dataframe\">\n",
              "  <thead>\n",
              "    <tr style=\"text-align: right;\">\n",
              "      <th></th>\n",
              "      <th>DEPARTAMENTO</th>\n",
              "      <th>PROVINCIA</th>\n",
              "      <th>DISTRITO</th>\n",
              "      <th>CENTRO POBLADO</th>\n",
              "      <th>LATITUD</th>\n",
              "      <th>LONGITUD</th>\n",
              "      <th>NMI1</th>\n",
              "      <th>NMI2</th>\n",
              "    </tr>\n",
              "  </thead>\n",
              "  <tbody>\n",
              "    <tr>\n",
              "      <th>1623</th>\n",
              "      <td>LAMBAYEQUE</td>\n",
              "      <td>CHICLAYO</td>\n",
              "      <td>OYOTUN</td>\n",
              "      <td>BEBEDEROS</td>\n",
              "      <td>-6.80447</td>\n",
              "      <td>-79.297753</td>\n",
              "      <td>14</td>\n",
              "      <td>42</td>\n",
              "    </tr>\n",
              "    <tr>\n",
              "      <th>1624</th>\n",
              "      <td>LAMBAYEQUE</td>\n",
              "      <td>CHICLAYO</td>\n",
              "      <td>OYOTUN</td>\n",
              "      <td>CANTA GALLO</td>\n",
              "      <td>-6.860437</td>\n",
              "      <td>-79.3785</td>\n",
              "      <td>2</td>\n",
              "      <td>5</td>\n",
              "    </tr>\n",
              "    <tr>\n",
              "      <th>1625</th>\n",
              "      <td>LAMBAYEQUE</td>\n",
              "      <td>CHICLAYO</td>\n",
              "      <td>OYOTUN</td>\n",
              "      <td>CHUMBENIQUE</td>\n",
              "      <td>-6.865822</td>\n",
              "      <td>-79.400267</td>\n",
              "      <td>49</td>\n",
              "      <td>130</td>\n",
              "    </tr>\n",
              "    <tr>\n",
              "      <th>1626</th>\n",
              "      <td>LAMBAYEQUE</td>\n",
              "      <td>CHICLAYO</td>\n",
              "      <td>OYOTUN</td>\n",
              "      <td>EL SEIS</td>\n",
              "      <td>-6.809653</td>\n",
              "      <td>-79.21591</td>\n",
              "      <td>14</td>\n",
              "      <td>31</td>\n",
              "    </tr>\n",
              "    <tr>\n",
              "      <th>1627</th>\n",
              "      <td>LAMBAYEQUE</td>\n",
              "      <td>CHICLAYO</td>\n",
              "      <td>OYOTUN</td>\n",
              "      <td>ESPINAL</td>\n",
              "      <td>-6.819611</td>\n",
              "      <td>-79.202495</td>\n",
              "      <td>85</td>\n",
              "      <td>243</td>\n",
              "    </tr>\n",
              "    <tr>\n",
              "      <th>1628</th>\n",
              "      <td>LAMBAYEQUE</td>\n",
              "      <td>CHICLAYO</td>\n",
              "      <td>OYOTUN</td>\n",
              "      <td>LA COMPUERTA</td>\n",
              "      <td>-6.849306</td>\n",
              "      <td>-79.352616</td>\n",
              "      <td>122</td>\n",
              "      <td>307</td>\n",
              "    </tr>\n",
              "    <tr>\n",
              "      <th>1629</th>\n",
              "      <td>LAMBAYEQUE</td>\n",
              "      <td>CHICLAYO</td>\n",
              "      <td>OYOTUN</td>\n",
              "      <td>MACUACO</td>\n",
              "      <td>-6.802402</td>\n",
              "      <td>-79.23779</td>\n",
              "      <td>42</td>\n",
              "      <td>132</td>\n",
              "    </tr>\n",
              "    <tr>\n",
              "      <th>1630</th>\n",
              "      <td>LAMBAYEQUE</td>\n",
              "      <td>CHICLAYO</td>\n",
              "      <td>OYOTUN</td>\n",
              "      <td>MOTETE</td>\n",
              "      <td>-6.876848</td>\n",
              "      <td>-79.421388</td>\n",
              "      <td>4</td>\n",
              "      <td>11</td>\n",
              "    </tr>\n",
              "    <tr>\n",
              "      <th>1631</th>\n",
              "      <td>LAMBAYEQUE</td>\n",
              "      <td>CHICLAYO</td>\n",
              "      <td>OYOTUN</td>\n",
              "      <td>OYOTUN</td>\n",
              "      <td>-6.85434</td>\n",
              "      <td>-79.306302</td>\n",
              "      <td>1696</td>\n",
              "      <td>5735</td>\n",
              "    </tr>\n",
              "  </tbody>\n",
              "</table>\n",
              "</div>"
            ],
            "text/plain": [
              "     DEPARTAMENTO PROVINCIA DISTRITO  ...    LONGITUD  NMI1  NMI2\n",
              "1623   LAMBAYEQUE  CHICLAYO   OYOTUN  ...  -79.297753    14    42\n",
              "1624   LAMBAYEQUE  CHICLAYO   OYOTUN  ...    -79.3785     2     5\n",
              "1625   LAMBAYEQUE  CHICLAYO   OYOTUN  ...  -79.400267    49   130\n",
              "1626   LAMBAYEQUE  CHICLAYO   OYOTUN  ...   -79.21591    14    31\n",
              "1627   LAMBAYEQUE  CHICLAYO   OYOTUN  ...  -79.202495    85   243\n",
              "1628   LAMBAYEQUE  CHICLAYO   OYOTUN  ...  -79.352616   122   307\n",
              "1629   LAMBAYEQUE  CHICLAYO   OYOTUN  ...   -79.23779    42   132\n",
              "1630   LAMBAYEQUE  CHICLAYO   OYOTUN  ...  -79.421388     4    11\n",
              "1631   LAMBAYEQUE  CHICLAYO   OYOTUN  ...  -79.306302  1696  5735\n",
              "\n",
              "[9 rows x 8 columns]"
            ]
          },
          "metadata": {
            "tags": []
          },
          "execution_count": 338
        }
      ]
    },
    {
      "cell_type": "code",
      "metadata": {
        "colab": {
          "base_uri": "https://localhost:8080/",
          "height": 402
        },
        "id": "8Kp59rP98c_7",
        "outputId": "385d8b59-8f47-40e1-d546-5a0aec5cbbad"
      },
      "source": [
        "Zona2 = Area_Estudio_Mayor(DATA_SET,'UTCUBAMBA')\n",
        "Zona2"
      ],
      "execution_count": 339,
      "outputs": [
        {
          "output_type": "execute_result",
          "data": {
            "text/html": [
              "<div>\n",
              "<style scoped>\n",
              "    .dataframe tbody tr th:only-of-type {\n",
              "        vertical-align: middle;\n",
              "    }\n",
              "\n",
              "    .dataframe tbody tr th {\n",
              "        vertical-align: top;\n",
              "    }\n",
              "\n",
              "    .dataframe thead th {\n",
              "        text-align: right;\n",
              "    }\n",
              "</style>\n",
              "<table border=\"1\" class=\"dataframe\">\n",
              "  <thead>\n",
              "    <tr style=\"text-align: right;\">\n",
              "      <th></th>\n",
              "      <th>DEPARTAMENTO</th>\n",
              "      <th>PROVINCIA</th>\n",
              "      <th>DISTRITO</th>\n",
              "      <th>CENTRO POBLADO</th>\n",
              "      <th>LATITUD</th>\n",
              "      <th>LONGITUD</th>\n",
              "      <th>NMI1</th>\n",
              "      <th>NMI2</th>\n",
              "    </tr>\n",
              "  </thead>\n",
              "  <tbody>\n",
              "    <tr>\n",
              "      <th>13</th>\n",
              "      <td>AMAZONAS</td>\n",
              "      <td>UTCUBAMBA</td>\n",
              "      <td>CAJARURO</td>\n",
              "      <td>NARANJITOS</td>\n",
              "      <td>-5.814901</td>\n",
              "      <td>-78.277449</td>\n",
              "      <td>177</td>\n",
              "      <td>577</td>\n",
              "    </tr>\n",
              "    <tr>\n",
              "      <th>14</th>\n",
              "      <td>AMAZONAS</td>\n",
              "      <td>UTCUBAMBA</td>\n",
              "      <td>CUMBA</td>\n",
              "      <td>AGUA AZUL</td>\n",
              "      <td>-5.969275</td>\n",
              "      <td>-78.619398</td>\n",
              "      <td>1</td>\n",
              "      <td>1</td>\n",
              "    </tr>\n",
              "    <tr>\n",
              "      <th>15</th>\n",
              "      <td>AMAZONAS</td>\n",
              "      <td>UTCUBAMBA</td>\n",
              "      <td>CUMBA</td>\n",
              "      <td>CHALA</td>\n",
              "      <td>-5.973545</td>\n",
              "      <td>-78.633153</td>\n",
              "      <td>1</td>\n",
              "      <td>6</td>\n",
              "    </tr>\n",
              "    <tr>\n",
              "      <th>16</th>\n",
              "      <td>AMAZONAS</td>\n",
              "      <td>UTCUBAMBA</td>\n",
              "      <td>CUMBA</td>\n",
              "      <td>PUERTO CHOROS</td>\n",
              "      <td>-5.894283</td>\n",
              "      <td>-78.687223</td>\n",
              "      <td>1</td>\n",
              "      <td>4</td>\n",
              "    </tr>\n",
              "    <tr>\n",
              "      <th>17</th>\n",
              "      <td>AMAZONAS</td>\n",
              "      <td>UTCUBAMBA</td>\n",
              "      <td>CUMBA</td>\n",
              "      <td>TAGTAGO</td>\n",
              "      <td>-5.981024</td>\n",
              "      <td>-78.630186</td>\n",
              "      <td>202</td>\n",
              "      <td>562</td>\n",
              "    </tr>\n",
              "    <tr>\n",
              "      <th>18</th>\n",
              "      <td>AMAZONAS</td>\n",
              "      <td>UTCUBAMBA</td>\n",
              "      <td>EL MILAGRO</td>\n",
              "      <td>PAPAYA BAJA (PARCIALIDAD)</td>\n",
              "      <td>-5.560332</td>\n",
              "      <td>-78.570703</td>\n",
              "      <td>15</td>\n",
              "      <td>33</td>\n",
              "    </tr>\n",
              "    <tr>\n",
              "      <th>19</th>\n",
              "      <td>AMAZONAS</td>\n",
              "      <td>UTCUBAMBA</td>\n",
              "      <td>JAMALCA</td>\n",
              "      <td>PUERTO NARANJITOS</td>\n",
              "      <td>-5.82154</td>\n",
              "      <td>-78.275662</td>\n",
              "      <td>102</td>\n",
              "      <td>360</td>\n",
              "    </tr>\n",
              "    <tr>\n",
              "      <th>20</th>\n",
              "      <td>AMAZONAS</td>\n",
              "      <td>UTCUBAMBA</td>\n",
              "      <td>LONYA GRANDE</td>\n",
              "      <td>ARCURCO</td>\n",
              "      <td>-6.101007</td>\n",
              "      <td>-78.417463</td>\n",
              "      <td>0</td>\n",
              "      <td>0</td>\n",
              "    </tr>\n",
              "    <tr>\n",
              "      <th>21</th>\n",
              "      <td>AMAZONAS</td>\n",
              "      <td>UTCUBAMBA</td>\n",
              "      <td>LONYA GRANDE</td>\n",
              "      <td>BOLIVIA</td>\n",
              "      <td>-6.101328</td>\n",
              "      <td>-78.427833</td>\n",
              "      <td>1</td>\n",
              "      <td>3</td>\n",
              "    </tr>\n",
              "    <tr>\n",
              "      <th>22</th>\n",
              "      <td>AMAZONAS</td>\n",
              "      <td>UTCUBAMBA</td>\n",
              "      <td>LONYA GRANDE</td>\n",
              "      <td>LONYA GRANDE</td>\n",
              "      <td>-6.096373</td>\n",
              "      <td>-78.422516</td>\n",
              "      <td>698</td>\n",
              "      <td>2896</td>\n",
              "    </tr>\n",
              "    <tr>\n",
              "      <th>23</th>\n",
              "      <td>AMAZONAS</td>\n",
              "      <td>UTCUBAMBA</td>\n",
              "      <td>LONYA GRANDE</td>\n",
              "      <td>MANCARRON</td>\n",
              "      <td>-6.096585</td>\n",
              "      <td>-78.428543</td>\n",
              "      <td>2</td>\n",
              "      <td>4</td>\n",
              "    </tr>\n",
              "    <tr>\n",
              "      <th>24</th>\n",
              "      <td>AMAZONAS</td>\n",
              "      <td>UTCUBAMBA</td>\n",
              "      <td>LONYA GRANDE</td>\n",
              "      <td>MATULI</td>\n",
              "      <td>-6.106335</td>\n",
              "      <td>-78.416907</td>\n",
              "      <td>1</td>\n",
              "      <td>1</td>\n",
              "    </tr>\n",
              "  </tbody>\n",
              "</table>\n",
              "</div>"
            ],
            "text/plain": [
              "   DEPARTAMENTO  PROVINCIA      DISTRITO  ...    LONGITUD NMI1  NMI2\n",
              "13     AMAZONAS  UTCUBAMBA      CAJARURO  ...  -78.277449  177   577\n",
              "14     AMAZONAS  UTCUBAMBA         CUMBA  ...  -78.619398    1     1\n",
              "15     AMAZONAS  UTCUBAMBA         CUMBA  ...  -78.633153    1     6\n",
              "16     AMAZONAS  UTCUBAMBA         CUMBA  ...  -78.687223    1     4\n",
              "17     AMAZONAS  UTCUBAMBA         CUMBA  ...  -78.630186  202   562\n",
              "18     AMAZONAS  UTCUBAMBA    EL MILAGRO  ...  -78.570703   15    33\n",
              "19     AMAZONAS  UTCUBAMBA       JAMALCA  ...  -78.275662  102   360\n",
              "20     AMAZONAS  UTCUBAMBA  LONYA GRANDE  ...  -78.417463    0     0\n",
              "21     AMAZONAS  UTCUBAMBA  LONYA GRANDE  ...  -78.427833    1     3\n",
              "22     AMAZONAS  UTCUBAMBA  LONYA GRANDE  ...  -78.422516  698  2896\n",
              "23     AMAZONAS  UTCUBAMBA  LONYA GRANDE  ...  -78.428543    2     4\n",
              "24     AMAZONAS  UTCUBAMBA  LONYA GRANDE  ...  -78.416907    1     1\n",
              "\n",
              "[12 rows x 8 columns]"
            ]
          },
          "metadata": {
            "tags": []
          },
          "execution_count": 339
        }
      ]
    },
    {
      "cell_type": "code",
      "metadata": {
        "colab": {
          "base_uri": "https://localhost:8080/",
          "height": 195
        },
        "id": "Piokd0ab8fLb",
        "outputId": "e24917d0-f082-4745-a716-94d1b59ef5ab"
      },
      "source": [
        "ZonaV3 = Area_Estudio(DATA_SET,'UTCUBAMBA', 'LONYA GRANDE')\n",
        "ZonaV3"
      ],
      "execution_count": 340,
      "outputs": [
        {
          "output_type": "execute_result",
          "data": {
            "text/html": [
              "<div>\n",
              "<style scoped>\n",
              "    .dataframe tbody tr th:only-of-type {\n",
              "        vertical-align: middle;\n",
              "    }\n",
              "\n",
              "    .dataframe tbody tr th {\n",
              "        vertical-align: top;\n",
              "    }\n",
              "\n",
              "    .dataframe thead th {\n",
              "        text-align: right;\n",
              "    }\n",
              "</style>\n",
              "<table border=\"1\" class=\"dataframe\">\n",
              "  <thead>\n",
              "    <tr style=\"text-align: right;\">\n",
              "      <th></th>\n",
              "      <th>DEPARTAMENTO</th>\n",
              "      <th>PROVINCIA</th>\n",
              "      <th>DISTRITO</th>\n",
              "      <th>CENTRO POBLADO</th>\n",
              "      <th>LATITUD</th>\n",
              "      <th>LONGITUD</th>\n",
              "      <th>NMI1</th>\n",
              "      <th>NMI2</th>\n",
              "    </tr>\n",
              "  </thead>\n",
              "  <tbody>\n",
              "    <tr>\n",
              "      <th>20</th>\n",
              "      <td>AMAZONAS</td>\n",
              "      <td>UTCUBAMBA</td>\n",
              "      <td>LONYA GRANDE</td>\n",
              "      <td>ARCURCO</td>\n",
              "      <td>-6.101007</td>\n",
              "      <td>-78.417463</td>\n",
              "      <td>0</td>\n",
              "      <td>0</td>\n",
              "    </tr>\n",
              "    <tr>\n",
              "      <th>21</th>\n",
              "      <td>AMAZONAS</td>\n",
              "      <td>UTCUBAMBA</td>\n",
              "      <td>LONYA GRANDE</td>\n",
              "      <td>BOLIVIA</td>\n",
              "      <td>-6.101328</td>\n",
              "      <td>-78.427833</td>\n",
              "      <td>1</td>\n",
              "      <td>3</td>\n",
              "    </tr>\n",
              "    <tr>\n",
              "      <th>22</th>\n",
              "      <td>AMAZONAS</td>\n",
              "      <td>UTCUBAMBA</td>\n",
              "      <td>LONYA GRANDE</td>\n",
              "      <td>LONYA GRANDE</td>\n",
              "      <td>-6.096373</td>\n",
              "      <td>-78.422516</td>\n",
              "      <td>698</td>\n",
              "      <td>2896</td>\n",
              "    </tr>\n",
              "    <tr>\n",
              "      <th>23</th>\n",
              "      <td>AMAZONAS</td>\n",
              "      <td>UTCUBAMBA</td>\n",
              "      <td>LONYA GRANDE</td>\n",
              "      <td>MANCARRON</td>\n",
              "      <td>-6.096585</td>\n",
              "      <td>-78.428543</td>\n",
              "      <td>2</td>\n",
              "      <td>4</td>\n",
              "    </tr>\n",
              "    <tr>\n",
              "      <th>24</th>\n",
              "      <td>AMAZONAS</td>\n",
              "      <td>UTCUBAMBA</td>\n",
              "      <td>LONYA GRANDE</td>\n",
              "      <td>MATULI</td>\n",
              "      <td>-6.106335</td>\n",
              "      <td>-78.416907</td>\n",
              "      <td>1</td>\n",
              "      <td>1</td>\n",
              "    </tr>\n",
              "  </tbody>\n",
              "</table>\n",
              "</div>"
            ],
            "text/plain": [
              "   DEPARTAMENTO  PROVINCIA      DISTRITO  ...    LONGITUD NMI1  NMI2\n",
              "20     AMAZONAS  UTCUBAMBA  LONYA GRANDE  ...  -78.417463    0     0\n",
              "21     AMAZONAS  UTCUBAMBA  LONYA GRANDE  ...  -78.427833    1     3\n",
              "22     AMAZONAS  UTCUBAMBA  LONYA GRANDE  ...  -78.422516  698  2896\n",
              "23     AMAZONAS  UTCUBAMBA  LONYA GRANDE  ...  -78.428543    2     4\n",
              "24     AMAZONAS  UTCUBAMBA  LONYA GRANDE  ...  -78.416907    1     1\n",
              "\n",
              "[5 rows x 8 columns]"
            ]
          },
          "metadata": {
            "tags": []
          },
          "execution_count": 340
        }
      ]
    },
    {
      "cell_type": "markdown",
      "metadata": {
        "id": "4wDyGN3a-T1C"
      },
      "source": [
        "####Generacion del Grafo"
      ]
    },
    {
      "cell_type": "code",
      "metadata": {
        "id": "WaN5crSE8nsF"
      },
      "source": [
        "def Gra(cp1, cp2, x):\n",
        "  G = nx.Graph()\n",
        "  indice = cp1.index[0] \n",
        "  for i, cp1 in x.iterrows():\n",
        "    G.add_node(i-indice)\n",
        "\n",
        "  for i, cp1 in x.iterrows():\n",
        "    for j, cp2 in x.iterrows():\n",
        "        if cp1['CENTRO POBLADO'] != cp2['CENTRO POBLADO']:     \n",
        "            G.add_edge(i - indice, j - indice, weight =round(calcularDistancia(cp1, cp2), 2))\n",
        "  \n",
        "  return G"
      ],
      "execution_count": 341,
      "outputs": []
    },
    {
      "cell_type": "markdown",
      "metadata": {
        "id": "cn0NW90y-WMc"
      },
      "source": [
        "### CREACION DEL GRAFO"
      ]
    },
    {
      "cell_type": "code",
      "metadata": {
        "id": "GrwQmcvm8rA8"
      },
      "source": [
        "G = Gra(ZonaV3, ZonaV3, ZonaV3)"
      ],
      "execution_count": 342,
      "outputs": []
    },
    {
      "cell_type": "code",
      "metadata": {
        "id": "uP-JiFlg-fIj"
      },
      "source": [
        "G_2 = Gra(Zona, Zona, Zona)"
      ],
      "execution_count": 345,
      "outputs": []
    },
    {
      "cell_type": "markdown",
      "metadata": {
        "id": "YImhudW8-jni"
      },
      "source": [
        "#####Formula para el camino mas pequeño"
      ]
    },
    {
      "cell_type": "code",
      "metadata": {
        "id": "lj60xE2R9QVA"
      },
      "source": [
        "def min_path(G, c):\n",
        "  arr = []\n",
        "  for h in G.neighbors(c):\n",
        "    arr.append(G.edges[c, h]['weight'])\n",
        "  arr.sort()\n",
        "  return min(arr)  "
      ],
      "execution_count": 347,
      "outputs": []
    },
    {
      "cell_type": "markdown",
      "metadata": {
        "id": "fdos7Ucs-prK"
      },
      "source": [
        "### CODIGO DE FUERZA BRUTA MODIFICADA...."
      ]
    },
    {
      "cell_type": "code",
      "metadata": {
        "id": "V9NSw-ml8zqT"
      },
      "source": [
        "def FuerzaBrutaModif(G, s): \n",
        "  for u in G:\n",
        "    G.nodes[u]['visited'] = False             \n",
        "    G.nodes[u]['path']    = -1                \n",
        "\n",
        "  queue = [s]\n",
        "  arr = []\n",
        "  L = nx.Graph(G)\n",
        "  G.nodes[s]['visited'] = True \n",
        "  while len(queue) > 0 :\n",
        "    \n",
        "    q = queue[0]\n",
        "    for i in G.neighbors(q):\n",
        "      if not G.nodes[i]['visited'] and L.edges[q, i]['weight'] == min_path(L, q):\n",
        "          G.nodes[i]['visited']  = True\n",
        "          queue.append(i) \n",
        "    L.remove_node(queue[0])  \n",
        "    arr.append(q)\n",
        "    del queue[0]\n",
        "\n",
        "\n",
        "  return arr"
      ],
      "execution_count": 348,
      "outputs": []
    },
    {
      "cell_type": "code",
      "metadata": {
        "colab": {
          "base_uri": "https://localhost:8080/"
        },
        "id": "X9uU-sLdAoOC",
        "outputId": "8b0a0254-1222-47bc-cf08-b11a1086fd91"
      },
      "source": [
        "FuerzaBrutaModif(G, 0)"
      ],
      "execution_count": 349,
      "outputs": [
        {
          "output_type": "execute_result",
          "data": {
            "text/plain": [
              "[0, 4, 2, 3, 1]"
            ]
          },
          "metadata": {
            "tags": []
          },
          "execution_count": 349
        }
      ]
    },
    {
      "cell_type": "markdown",
      "metadata": {
        "id": "ea2chiql-wqZ"
      },
      "source": [
        "#### GENERADON DE CAMINOS"
      ]
    },
    {
      "cell_type": "code",
      "metadata": {
        "id": "9Jc5mzN187KS"
      },
      "source": [
        "path_2 = FuerzaBrutaModif(G_2, 0)\n",
        "\n",
        "path_2.append(0)"
      ],
      "execution_count": 352,
      "outputs": []
    },
    {
      "cell_type": "code",
      "metadata": {
        "colab": {
          "base_uri": "https://localhost:8080/",
          "height": 1000
        },
        "id": "7Z_BrxwU_5xi",
        "outputId": "add2ce48-d929-4d36-f145-344d6dfa165c"
      },
      "source": [
        "nxAgv(G_2, path = path_2 ,weighted=True, params={'size': '15'})"
      ],
      "execution_count": 353,
      "outputs": [
        {
          "output_type": "execute_result",
          "data": {
            "text/plain": [
              "<graphviz.dot.Graph at 0x7f72c5ab9250>"
            ],
            "image/svg+xml": "<?xml version=\"1.0\" encoding=\"UTF-8\" standalone=\"no\"?>\n<!DOCTYPE svg PUBLIC \"-//W3C//DTD SVG 1.1//EN\"\n \"http://www.w3.org/Graphics/SVG/1.1/DTD/svg11.dtd\">\n<!-- Generated by graphviz version 2.40.1 (20161225.0304)\n -->\n<!-- Title: G Pages: 1 -->\n<svg width=\"860pt\" height=\"740pt\"\n viewBox=\"0.00 0.00 860.00 740.00\" xmlns=\"http://www.w3.org/2000/svg\" xmlns:xlink=\"http://www.w3.org/1999/xlink\">\n<g id=\"graph0\" class=\"graph\" transform=\"scale(1 1) rotate(0) translate(4 736)\">\n<title>G</title>\n<polygon fill=\"#ffffff\" stroke=\"transparent\" points=\"-4,4 -4,-736 856,-736 856,4 -4,4\"/>\n<!-- 0 -->\n<g id=\"node1\" class=\"node\">\n<title>0</title>\n<ellipse fill=\"none\" stroke=\"#000000\" cx=\"405\" cy=\"-714\" rx=\"27\" ry=\"18\"/>\n<text text-anchor=\"middle\" x=\"405\" y=\"-710.3\" font-family=\"Times,serif\" font-size=\"14.00\" fill=\"#000000\">0</text>\n</g>\n<!-- 1 -->\n<g id=\"node2\" class=\"node\">\n<title>1</title>\n<ellipse fill=\"none\" stroke=\"#000000\" cx=\"339\" cy=\"-627\" rx=\"27\" ry=\"18\"/>\n<text text-anchor=\"middle\" x=\"339\" y=\"-623.3\" font-family=\"Times,serif\" font-size=\"14.00\" fill=\"#000000\">1</text>\n</g>\n<!-- 0&#45;&#45;1 -->\n<g id=\"edge1\" class=\"edge\">\n<title>0&#45;&#45;1</title>\n<path fill=\"none\" stroke=\"#000000\" d=\"M389.9496,-698.7283C384.0995,-692.5044 377.4969,-685.1102 372,-678 363.6145,-667.1536 355.2357,-654.1715 349.0192,-644.0198\"/>\n<text text-anchor=\"middle\" x=\"389\" y=\"-666.8\" font-family=\"Times,serif\" font-size=\"14.00\" fill=\"#000000\">10.87</text>\n</g>\n<!-- 2 -->\n<g id=\"node3\" class=\"node\">\n<title>2</title>\n<ellipse fill=\"none\" stroke=\"#000000\" cx=\"669\" cy=\"-540\" rx=\"27\" ry=\"18\"/>\n<text text-anchor=\"middle\" x=\"669\" y=\"-536.3\" font-family=\"Times,serif\" font-size=\"14.00\" fill=\"#000000\">2</text>\n</g>\n<!-- 0&#45;&#45;2 -->\n<g id=\"edge2\" class=\"edge\">\n<title>0&#45;&#45;2</title>\n<path fill=\"none\" stroke=\"#000000\" d=\"M431.4721,-709.8874C457.0118,-705.0794 496.0939,-695.458 526,-678 582.6126,-644.9518 633.9613,-584.9433 656.6751,-556.198\"/>\n<text text-anchor=\"middle\" x=\"626\" y=\"-623.3\" font-family=\"Times,serif\" font-size=\"14.00\" fill=\"#000000\">13.22</text>\n</g>\n<!-- 3 -->\n<g id=\"node4\" class=\"node\">\n<title>3</title>\n<ellipse fill=\"none\" stroke=\"#000000\" cx=\"397\" cy=\"-453\" rx=\"27\" ry=\"18\"/>\n<text text-anchor=\"middle\" x=\"397\" y=\"-449.3\" font-family=\"Times,serif\" font-size=\"14.00\" fill=\"#000000\">3</text>\n</g>\n<!-- 0&#45;&#45;3 -->\n<g id=\"edge3\" class=\"edge\">\n<title>0&#45;&#45;3</title>\n<path fill=\"none\" stroke=\"#000000\" d=\"M406.8974,-695.9521C410.1638,-661.8722 415.9525,-585.7444 410,-522 408.3679,-504.5225 404.4587,-484.8752 401.3504,-471.0291\"/>\n<text text-anchor=\"middle\" x=\"425.5\" y=\"-579.8\" font-family=\"Times,serif\" font-size=\"14.00\" fill=\"#000000\">9.05</text>\n</g>\n<!-- 4 -->\n<g id=\"node5\" class=\"node\">\n<title>4</title>\n<ellipse fill=\"none\" stroke=\"#000000\" cx=\"565\" cy=\"-366\" rx=\"27\" ry=\"18\"/>\n<text text-anchor=\"middle\" x=\"565\" y=\"-362.3\" font-family=\"Times,serif\" font-size=\"14.00\" fill=\"#000000\">4</text>\n</g>\n<!-- 0&#45;&#45;4 -->\n<g id=\"edge4\" class=\"edge\">\n<title>0&#45;&#45;4</title>\n<path fill=\"none\" stroke=\"#ff4500\" d=\"M431.1558,-709.0523C480.9285,-699.0316 586.0956,-674.742 606,-645 614.8989,-631.703 607.3356,-624.9442 606,-609 604.1205,-586.5636 577.6109,-436.7272 568.247,-384.1738\"/>\n<text text-anchor=\"middle\" x=\"615\" y=\"-536.3\" font-family=\"Times,serif\" font-size=\"14.00\" fill=\"#000000\">10.65</text>\n</g>\n<!-- 5 -->\n<g id=\"node6\" class=\"node\">\n<title>5</title>\n<ellipse fill=\"none\" stroke=\"#000000\" cx=\"476\" cy=\"-279\" rx=\"27\" ry=\"18\"/>\n<text text-anchor=\"middle\" x=\"476\" y=\"-275.3\" font-family=\"Times,serif\" font-size=\"14.00\" fill=\"#000000\">5</text>\n</g>\n<!-- 0&#45;&#45;5 -->\n<g id=\"edge5\" class=\"edge\">\n<title>0&#45;&#45;5</title>\n<path fill=\"none\" stroke=\"#000000\" d=\"M421.4185,-699.2845C443.802,-677.9957 482.8431,-636.1777 498,-591 513.8574,-543.7344 434.5512,-522.4121 427,-504 424.4703,-497.8319 425.5746,-495.5125 427,-489 431.5497,-468.2132 456.9903,-420.7776 467,-402 471.4103,-393.7265 475.4606,-393.0251 478,-384 486.3456,-354.3388 482.8008,-318.08 479.4276,-296.861\"/>\n<text text-anchor=\"middle\" x=\"440.5\" y=\"-492.8\" font-family=\"Times,serif\" font-size=\"14.00\" fill=\"#000000\">7.85</text>\n</g>\n<!-- 6 -->\n<g id=\"node7\" class=\"node\">\n<title>6</title>\n<ellipse fill=\"none\" stroke=\"#000000\" cx=\"316\" cy=\"-192\" rx=\"27\" ry=\"18\"/>\n<text text-anchor=\"middle\" x=\"316\" y=\"-188.3\" font-family=\"Times,serif\" font-size=\"14.00\" fill=\"#000000\">6</text>\n</g>\n<!-- 0&#45;&#45;6 -->\n<g id=\"edge6\" class=\"edge\">\n<title>0&#45;&#45;6</title>\n<path fill=\"none\" stroke=\"#000000\" d=\"M377.6818,-712.5583C309.825,-708.6991 137.8404,-697.1099 121,-678 113.0691,-669.0004 118.3331,-670.4739 201,-471 241.918,-372.2655 290.6491,-253.7214 308.7578,-209.6366\"/>\n<text text-anchor=\"middle\" x=\"229.5\" y=\"-449.3\" font-family=\"Times,serif\" font-size=\"14.00\" fill=\"#000000\">6.62</text>\n</g>\n<!-- 7 -->\n<g id=\"node8\" class=\"node\">\n<title>7</title>\n<ellipse fill=\"none\" stroke=\"#000000\" cx=\"357\" cy=\"-105\" rx=\"27\" ry=\"18\"/>\n<text text-anchor=\"middle\" x=\"357\" y=\"-101.3\" font-family=\"Times,serif\" font-size=\"14.00\" fill=\"#000000\">7</text>\n</g>\n<!-- 0&#45;&#45;7 -->\n<g id=\"edge7\" class=\"edge\">\n<title>0&#45;&#45;7</title>\n<path fill=\"none\" stroke=\"#000000\" d=\"M378.2949,-711.0937C321.8168,-703.3436 190.9507,-676.5488 136,-591 33.4804,-431.3945 105.6825,-319.8296 227,-174 244.5056,-152.9574 254.9649,-154.0976 279,-141 279.1688,-140.908 311.5228,-125.9795 334.5032,-115.3778\"/>\n<text text-anchor=\"middle\" x=\"109\" y=\"-405.8\" font-family=\"Times,serif\" font-size=\"14.00\" fill=\"#000000\">15.85</text>\n</g>\n<!-- 8 -->\n<g id=\"node9\" class=\"node\">\n<title>8</title>\n<ellipse fill=\"none\" stroke=\"#000000\" cx=\"243\" cy=\"-18\" rx=\"27\" ry=\"18\"/>\n<text text-anchor=\"middle\" x=\"243\" y=\"-14.3\" font-family=\"Times,serif\" font-size=\"14.00\" fill=\"#000000\">8</text>\n</g>\n<!-- 0&#45;&#45;8 -->\n<g id=\"edge8\" class=\"edge\">\n<title>0&#45;&#45;8</title>\n<path fill=\"none\" stroke=\"#ff4500\" d=\"M377.6944,-713.2702C325.6641,-711.3002 209.1121,-704.0931 115,-678 61.1208,-663.0617 0,-682.9117 0,-627 0,-627 0,-627 0,-105 0,-59.406 153.5519,-31.324 216.5322,-21.7235\"/>\n<text text-anchor=\"middle\" x=\"13.5\" y=\"-362.3\" font-family=\"Times,serif\" font-size=\"14.00\" fill=\"#000000\">5.63</text>\n</g>\n<!-- 1&#45;&#45;2 -->\n<g id=\"edge9\" class=\"edge\">\n<title>1&#45;&#45;2</title>\n<path fill=\"none\" stroke=\"#ff4500\" d=\"M365.2796,-621.9494C415.9447,-611.9251 530.4004,-587.8815 624,-558 631.3745,-555.6457 639.2603,-552.6589 646.3376,-549.7982\"/>\n<text text-anchor=\"middle\" x=\"575.5\" y=\"-579.8\" font-family=\"Times,serif\" font-size=\"14.00\" fill=\"#000000\">2.48</text>\n</g>\n<!-- 1&#45;&#45;3 -->\n<g id=\"edge10\" class=\"edge\">\n<title>1&#45;&#45;3</title>\n<path fill=\"none\" stroke=\"#000000\" d=\"M344.3427,-609.0175C352.2902,-582.5641 367.9148,-531.6763 383,-489 385.1455,-482.9303 387.6506,-476.3504 389.944,-470.4964\"/>\n<text text-anchor=\"middle\" x=\"389\" y=\"-536.3\" font-family=\"Times,serif\" font-size=\"14.00\" fill=\"#000000\">18.82</text>\n</g>\n<!-- 1&#45;&#45;4 -->\n<g id=\"edge11\" class=\"edge\">\n<title>1&#45;&#45;4</title>\n<path fill=\"none\" stroke=\"#000000\" d=\"M357.0003,-613.3569C370.8313,-602.9567 390.4724,-588.3657 408,-576 454.8367,-542.9568 479.9066,-549.3209 515,-504 544.4329,-465.9893 534.2858,-447.0749 551,-402 553.2383,-395.9639 555.7666,-389.3924 558.0526,-383.5358\"/>\n<text text-anchor=\"middle\" x=\"542\" y=\"-492.8\" font-family=\"Times,serif\" font-size=\"14.00\" fill=\"#000000\">19.95</text>\n</g>\n<!-- 1&#45;&#45;5 -->\n<g id=\"edge12\" class=\"edge\">\n<title>1&#45;&#45;5</title>\n<path fill=\"none\" stroke=\"#ff4500\" d=\"M334.2568,-609.0215C325.9685,-574.0921 311.8231,-495.207 335,-435 359.7876,-370.6087 424.8281,-316.2659 457.1749,-292.2315\"/>\n<text text-anchor=\"middle\" x=\"348\" y=\"-449.3\" font-family=\"Times,serif\" font-size=\"14.00\" fill=\"#000000\">3.11</text>\n</g>\n<!-- 1&#45;&#45;6 -->\n<g id=\"edge13\" class=\"edge\">\n<title>1&#45;&#45;6</title>\n<path fill=\"none\" stroke=\"#000000\" d=\"M330.7968,-609.7266C328.2968,-603.8875 325.7499,-597.26 324,-591 320.0064,-576.7136 320.8446,-572.7189 319,-558 311.1693,-495.5139 308.1149,-479.8977 305,-417 301.5703,-347.7458 305.4581,-330.3219 307,-261 307.3263,-246.3302 306.1781,-242.5599 308,-228 308.7472,-222.0283 310.0243,-215.5883 311.3414,-209.829\"/>\n<text text-anchor=\"middle\" x=\"322\" y=\"-405.8\" font-family=\"Times,serif\" font-size=\"14.00\" fill=\"#000000\">16.82</text>\n</g>\n<!-- 1&#45;&#45;7 -->\n<g id=\"edge14\" class=\"edge\">\n<title>1&#45;&#45;7</title>\n<path fill=\"none\" stroke=\"#000000\" d=\"M321.3082,-613.3634C290.7834,-588.7022 228.8261,-533.42 201,-471 178.6683,-420.9051 184.9432,-402.5116 191,-348 197.0369,-293.6677 190.1827,-275.06 218,-228 247.9246,-177.3751 305.8249,-136.42 336.6056,-117.076\"/>\n<text text-anchor=\"middle\" x=\"204.5\" y=\"-362.3\" font-family=\"Times,serif\" font-size=\"14.00\" fill=\"#000000\">5.07</text>\n</g>\n<!-- 1&#45;&#45;8 -->\n<g id=\"edge15\" class=\"edge\">\n<title>1&#45;&#45;8</title>\n<path fill=\"none\" stroke=\"#000000\" d=\"M316.715,-616.6881C249.7646,-584.004 55,-475.7527 55,-322.5 55,-322.5 55,-322.5 55,-105 55,-73.2572 77.536,-69.9165 105,-54 140.2401,-33.5769 187.1723,-24.536 216.2195,-20.6823\"/>\n<text text-anchor=\"middle\" x=\"65.5\" y=\"-318.8\" font-family=\"Times,serif\" font-size=\"14.00\" fill=\"#000000\">8.0</text>\n</g>\n<!-- 2&#45;&#45;3 -->\n<g id=\"edge16\" class=\"edge\">\n<title>2&#45;&#45;3</title>\n<path fill=\"none\" stroke=\"#000000\" d=\"M646.486,-529.6876C639.4147,-526.806 631.495,-523.9366 624,-522 561.9799,-505.9745 541.1392,-526.0588 481,-504 469.5424,-499.7974 468.3688,-495.4363 458,-489 444.6268,-480.6987 429.3768,-471.6987 417.4701,-464.7741\"/>\n<text text-anchor=\"middle\" x=\"498\" y=\"-492.8\" font-family=\"Times,serif\" font-size=\"14.00\" fill=\"#000000\">21.29</text>\n</g>\n<!-- 2&#45;&#45;4 -->\n<g id=\"edge17\" class=\"edge\">\n<title>2&#45;&#45;4</title>\n<path fill=\"none\" stroke=\"#000000\" d=\"M658.102,-523.4105C649.0553,-509.5215 635.9456,-489.1198 625,-471 606.5451,-440.4491 586.1419,-404.1708 574.5162,-383.2441\"/>\n<text text-anchor=\"middle\" x=\"642\" y=\"-449.3\" font-family=\"Times,serif\" font-size=\"14.00\" fill=\"#000000\">22.43</text>\n</g>\n<!-- 2&#45;&#45;5 -->\n<g id=\"edge18\" class=\"edge\">\n<title>2&#45;&#45;5</title>\n<path fill=\"none\" stroke=\"#000000\" d=\"M669.9109,-521.9653C670.4019,-500.5793 669.3634,-464.1599 659,-435 643.4376,-391.2117 633.292,-381.419 601,-348 583.5161,-329.9058 577.1527,-326.9308 555,-315 535.3062,-304.3935 528.2467,-306.5087 508,-297 504.1921,-295.2116 500.2207,-293.149 496.4232,-291.0724\"/>\n<text text-anchor=\"middle\" x=\"665.5\" y=\"-405.8\" font-family=\"Times,serif\" font-size=\"14.00\" fill=\"#000000\">5.57</text>\n</g>\n<!-- 2&#45;&#45;6 -->\n<g id=\"edge19\" class=\"edge\">\n<title>2&#45;&#45;6</title>\n<path fill=\"none\" stroke=\"#000000\" d=\"M677.1793,-522.8055C679.5475,-516.9717 681.813,-510.3274 683,-504 691.3588,-459.4439 697.838,-444.8363 683,-402 656.8954,-326.6379 636.2929,-308.1944 572,-261 534.9862,-233.83 400.1922,-207.103 342.4962,-196.629\"/>\n<text text-anchor=\"middle\" x=\"693\" y=\"-362.3\" font-family=\"Times,serif\" font-size=\"14.00\" fill=\"#000000\">19.27</text>\n</g>\n<!-- 2&#45;&#45;7 -->\n<g id=\"edge20\" class=\"edge\">\n<title>2&#45;&#45;7</title>\n<path fill=\"none\" stroke=\"#ff4500\" d=\"M684.1606,-524.6729C689.2995,-518.6716 694.595,-511.4444 698,-504 706.4133,-485.6061 711.9363,-420.0267 714,-384 720.4491,-271.4165 736.238,-201.3852 641,-141 598.7111,-114.1869 447.0445,-107.28 384.3843,-105.5544\"/>\n<text text-anchor=\"middle\" x=\"731.5\" y=\"-318.8\" font-family=\"Times,serif\" font-size=\"14.00\" fill=\"#000000\">2.63</text>\n</g>\n<!-- 2&#45;&#45;8 -->\n<g id=\"edge21\" class=\"edge\">\n<title>2&#45;&#45;8</title>\n<path fill=\"none\" stroke=\"#000000\" d=\"M695.6382,-536.6542C738.4959,-529.6177 818,-509.0155 818,-453 818,-453 818,-453 818,-105 818,-48.8396 383.6419,-24.5815 269.9622,-19.1944\"/>\n<text text-anchor=\"middle\" x=\"835\" y=\"-275.3\" font-family=\"Times,serif\" font-size=\"14.00\" fill=\"#000000\">10.45</text>\n</g>\n<!-- 3&#45;&#45;4 -->\n<g id=\"edge22\" class=\"edge\">\n<title>3&#45;&#45;4</title>\n<path fill=\"none\" stroke=\"#ff4500\" d=\"M417.1108,-440.9665C435.1792,-430.309 462.5514,-414.5417 487,-402 505.3129,-392.6058 526.5481,-382.8786 542.2335,-375.9072\"/>\n<text text-anchor=\"middle\" x=\"500.5\" y=\"-405.8\" font-family=\"Times,serif\" font-size=\"14.00\" fill=\"#000000\">1.85</text>\n</g>\n<!-- 3&#45;&#45;5 -->\n<g id=\"edge23\" class=\"edge\">\n<title>3&#45;&#45;5</title>\n<path fill=\"none\" stroke=\"#000000\" d=\"M404.7459,-435.5039C414.0045,-414.6359 430.0044,-378.7144 444,-348 452.0487,-330.3364 461.4053,-310.2072 467.9138,-296.2681\"/>\n<text text-anchor=\"middle\" x=\"461\" y=\"-362.3\" font-family=\"Times,serif\" font-size=\"14.00\" fill=\"#000000\">15.72</text>\n</g>\n<!-- 3&#45;&#45;6 -->\n<g id=\"edge24\" class=\"edge\">\n<title>3&#45;&#45;6</title>\n<path fill=\"none\" stroke=\"#ff4500\" d=\"M378.9329,-439.2137C371.1575,-432.8638 362.2164,-424.9761 355,-417 343.0059,-403.7431 340.0202,-399.9775 332,-384 320.6507,-361.3904 318.0523,-354.9716 314,-330 307.0914,-287.4274 310.8868,-236.4974 313.7492,-210.0099\"/>\n<text text-anchor=\"middle\" x=\"327.5\" y=\"-318.8\" font-family=\"Times,serif\" font-size=\"14.00\" fill=\"#000000\">2.55</text>\n</g>\n<!-- 3&#45;&#45;7 -->\n<g id=\"edge25\" class=\"edge\">\n<title>3&#45;&#45;7</title>\n<path fill=\"none\" stroke=\"#000000\" d=\"M397.0662,-434.8151C396.8918,-386.4136 394.1099,-250.6529 370,-141 368.6586,-134.8994 366.5496,-128.4252 364.4175,-122.6742\"/>\n<text text-anchor=\"middle\" x=\"408\" y=\"-275.3\" font-family=\"Times,serif\" font-size=\"14.00\" fill=\"#000000\">23.88</text>\n</g>\n<!-- 3&#45;&#45;8 -->\n<g id=\"edge26\" class=\"edge\">\n<title>3&#45;&#45;8</title>\n<path fill=\"none\" stroke=\"#000000\" d=\"M377.6384,-440.329C373.6037,-438.2062 369.2743,-436.2803 365,-435 309.944,-418.5093 151.4617,-453.4179 107,-417 88.816,-402.1058 93,-389.5052 93,-366 93,-366 93,-366 93,-105 93,-48.7039 173.0377,-28.231 216.183,-21.2846\"/>\n<text text-anchor=\"middle\" x=\"110\" y=\"-231.8\" font-family=\"Times,serif\" font-size=\"14.00\" fill=\"#000000\">11.15</text>\n</g>\n<!-- 4&#45;&#45;5 -->\n<g id=\"edge27\" class=\"edge\">\n<title>4&#45;&#45;5</title>\n<path fill=\"none\" stroke=\"#000000\" d=\"M547.9191,-351.6394C540.4318,-345.1832 531.6303,-337.3712 524,-330 512.1069,-318.5109 499.3033,-304.8354 489.9132,-294.5391\"/>\n<text text-anchor=\"middle\" x=\"537.5\" y=\"-318.8\" font-family=\"Times,serif\" font-size=\"14.00\" fill=\"#000000\">16.9</text>\n</g>\n<!-- 4&#45;&#45;6 -->\n<g id=\"edge28\" class=\"edge\">\n<title>4&#45;&#45;6</title>\n<path fill=\"none\" stroke=\"#000000\" d=\"M561.7023,-347.9742C559.4672,-337.9515 555.9977,-325.4338 551,-315 538.211,-288.3001 534.7246,-279.9746 512,-261 461.4639,-218.8035 383.3715,-201.7033 342.6951,-195.3623\"/>\n<text text-anchor=\"middle\" x=\"554.5\" y=\"-275.3\" font-family=\"Times,serif\" font-size=\"14.00\" fill=\"#000000\">4.34</text>\n</g>\n<!-- 4&#45;&#45;7 -->\n<g id=\"edge29\" class=\"edge\">\n<title>4&#45;&#45;7</title>\n<path fill=\"none\" stroke=\"#000000\" d=\"M579.8463,-350.5104C599.676,-328.6327 633.8362,-286.477 647,-243 657.8952,-207.0155 650.3782,-166.1475 621,-141 603.1658,-125.7341 447.6125,-112.0422 383.9681,-107.0272\"/>\n<text text-anchor=\"middle\" x=\"667\" y=\"-231.8\" font-family=\"Times,serif\" font-size=\"14.00\" fill=\"#000000\">24.99</text>\n</g>\n<!-- 4&#45;&#45;8 -->\n<g id=\"edge30\" class=\"edge\">\n<title>4&#45;&#45;8</title>\n<path fill=\"none\" stroke=\"#000000\" d=\"M591.1573,-360.9172C643.4674,-349.0709 756,-314.4156 756,-235.5 756,-235.5 756,-235.5 756,-105 756,-55.2597 376.2749,-26.7099 270.2189,-19.706\"/>\n<text text-anchor=\"middle\" x=\"773\" y=\"-188.3\" font-family=\"Times,serif\" font-size=\"14.00\" fill=\"#000000\">12.09</text>\n</g>\n<!-- 5&#45;&#45;6 -->\n<g id=\"edge31\" class=\"edge\">\n<title>5&#45;&#45;6</title>\n<path fill=\"none\" stroke=\"#000000\" d=\"M454.7532,-267.4471C424.066,-250.7609 367.6735,-220.0974 337.0798,-203.4621\"/>\n<text text-anchor=\"middle\" x=\"422\" y=\"-231.8\" font-family=\"Times,serif\" font-size=\"14.00\" fill=\"#000000\">13.71</text>\n</g>\n<!-- 5&#45;&#45;7 -->\n<g id=\"edge32\" class=\"edge\">\n<title>5&#45;&#45;7</title>\n<path fill=\"none\" stroke=\"#000000\" d=\"M468.3372,-261.2704C455.9709,-233.8095 429.7594,-180.0861 398,-141 391.3096,-132.7662 382.6257,-124.8464 374.9731,-118.5418\"/>\n<text text-anchor=\"middle\" x=\"455.5\" y=\"-188.3\" font-family=\"Times,serif\" font-size=\"14.00\" fill=\"#000000\">8.19</text>\n</g>\n<!-- 5&#45;&#45;8 -->\n<g id=\"edge33\" class=\"edge\">\n<title>5&#45;&#45;8</title>\n<path fill=\"none\" stroke=\"#ff4500\" d=\"M479.2167,-260.7546C482.1947,-239.166 484.6042,-202.5518 473,-174 443.6393,-101.7591 414.4961,-89.3707 345,-54 319.8961,-41.2231 289.1919,-31.0595 268.069,-24.8334\"/>\n<text text-anchor=\"middle\" x=\"477.5\" y=\"-144.8\" font-family=\"Times,serif\" font-size=\"14.00\" fill=\"#000000\">5.14</text>\n</g>\n<!-- 6&#45;&#45;7 -->\n<g id=\"edge34\" class=\"edge\">\n<title>6&#45;&#45;7</title>\n<path fill=\"none\" stroke=\"#ff4500\" d=\"M324.1003,-174.8116C331.2415,-159.6583 341.5983,-137.6818 348.7762,-122.4505\"/>\n<text text-anchor=\"middle\" x=\"352.5\" y=\"-144.8\" font-family=\"Times,serif\" font-size=\"14.00\" fill=\"#000000\">21.9</text>\n</g>\n<!-- 6&#45;&#45;8 -->\n<g id=\"edge35\" class=\"edge\">\n<title>6&#45;&#45;8</title>\n<path fill=\"none\" stroke=\"#000000\" d=\"M308.5986,-174.3584C294.5709,-140.9223 264.2711,-68.701 250.3124,-35.4296\"/>\n<text text-anchor=\"middle\" x=\"300.5\" y=\"-101.3\" font-family=\"Times,serif\" font-size=\"14.00\" fill=\"#000000\">9.52</text>\n</g>\n<!-- 7&#45;&#45;8 -->\n<g id=\"edge36\" class=\"edge\">\n<title>7&#45;&#45;8</title>\n<path fill=\"none\" stroke=\"#000000\" d=\"M339.1875,-91.4063C317.896,-75.1575 282.4656,-48.1185 261.0636,-31.7854\"/>\n<text text-anchor=\"middle\" x=\"324\" y=\"-57.8\" font-family=\"Times,serif\" font-size=\"14.00\" fill=\"#000000\">12.95</text>\n</g>\n</g>\n</svg>\n"
          },
          "metadata": {
            "tags": []
          },
          "execution_count": 353
        }
      ]
    },
    {
      "cell_type": "code",
      "metadata": {
        "id": "kiOt-VtH_p05"
      },
      "source": [
        "path_1 = FuerzaBrutaModif(G, 0)\n",
        "path_1.append(0)"
      ],
      "execution_count": 357,
      "outputs": []
    },
    {
      "cell_type": "code",
      "metadata": {
        "colab": {
          "base_uri": "https://localhost:8080/",
          "height": 544
        },
        "id": "KUtQKO1L884j",
        "outputId": "bc6af1fc-8ade-4499-f860-78b36e6f256f"
      },
      "source": [
        "nxAgv(G, path = path_1 , weighted=True, params={'size': '15'})"
      ],
      "execution_count": 358,
      "outputs": [
        {
          "output_type": "execute_result",
          "data": {
            "text/plain": [
              "<graphviz.dot.Graph at 0x7f72c5a82050>"
            ],
            "image/svg+xml": "<?xml version=\"1.0\" encoding=\"UTF-8\" standalone=\"no\"?>\n<!DOCTYPE svg PUBLIC \"-//W3C//DTD SVG 1.1//EN\"\n \"http://www.w3.org/Graphics/SVG/1.1/DTD/svg11.dtd\">\n<!-- Generated by graphviz version 2.40.1 (20161225.0304)\n -->\n<!-- Title: G Pages: 1 -->\n<svg width=\"230pt\" height=\"392pt\"\n viewBox=\"0.00 0.00 230.00 392.00\" xmlns=\"http://www.w3.org/2000/svg\" xmlns:xlink=\"http://www.w3.org/1999/xlink\">\n<g id=\"graph0\" class=\"graph\" transform=\"scale(1 1) rotate(0) translate(4 388)\">\n<title>G</title>\n<polygon fill=\"#ffffff\" stroke=\"transparent\" points=\"-4,4 -4,-388 226,-388 226,4 -4,4\"/>\n<!-- 0 -->\n<g id=\"node1\" class=\"node\">\n<title>0</title>\n<ellipse fill=\"none\" stroke=\"#000000\" cx=\"82\" cy=\"-366\" rx=\"27\" ry=\"18\"/>\n<text text-anchor=\"middle\" x=\"82\" y=\"-362.3\" font-family=\"Times,serif\" font-size=\"14.00\" fill=\"#000000\">0</text>\n</g>\n<!-- 1 -->\n<g id=\"node2\" class=\"node\">\n<title>1</title>\n<ellipse fill=\"none\" stroke=\"#000000\" cx=\"118\" cy=\"-279\" rx=\"27\" ry=\"18\"/>\n<text text-anchor=\"middle\" x=\"118\" y=\"-275.3\" font-family=\"Times,serif\" font-size=\"14.00\" fill=\"#000000\">1</text>\n</g>\n<!-- 0&#45;&#45;1 -->\n<g id=\"edge1\" class=\"edge\">\n<title>0&#45;&#45;1</title>\n<path fill=\"none\" stroke=\"#ff4500\" d=\"M89.2851,-348.3943C95.531,-333.3001 104.483,-311.6661 110.7257,-296.5796\"/>\n<text text-anchor=\"middle\" x=\"115.5\" y=\"-318.8\" font-family=\"Times,serif\" font-size=\"14.00\" fill=\"#000000\">1.15</text>\n</g>\n<!-- 2 -->\n<g id=\"node3\" class=\"node\">\n<title>2</title>\n<ellipse fill=\"none\" stroke=\"#000000\" cx=\"118\" cy=\"-192\" rx=\"27\" ry=\"18\"/>\n<text text-anchor=\"middle\" x=\"118\" y=\"-188.3\" font-family=\"Times,serif\" font-size=\"14.00\" fill=\"#000000\">2</text>\n</g>\n<!-- 0&#45;&#45;2 -->\n<g id=\"edge2\" class=\"edge\">\n<title>0&#45;&#45;2</title>\n<path fill=\"none\" stroke=\"#000000\" d=\"M71.4055,-349.2533C59.5058,-328.2066 43.2934,-291.1835 55,-261 63.9158,-238.0121 84.4541,-217.9972 99.6699,-205.5289\"/>\n<text text-anchor=\"middle\" x=\"68.5\" y=\"-275.3\" font-family=\"Times,serif\" font-size=\"14.00\" fill=\"#000000\">0.76</text>\n</g>\n<!-- 3 -->\n<g id=\"node4\" class=\"node\">\n<title>3</title>\n<ellipse fill=\"none\" stroke=\"#000000\" cx=\"183\" cy=\"-105\" rx=\"27\" ry=\"18\"/>\n<text text-anchor=\"middle\" x=\"183\" y=\"-101.3\" font-family=\"Times,serif\" font-size=\"14.00\" fill=\"#000000\">3</text>\n</g>\n<!-- 0&#45;&#45;3 -->\n<g id=\"edge3\" class=\"edge\">\n<title>0&#45;&#45;3</title>\n<path fill=\"none\" stroke=\"#000000\" d=\"M102.5397,-354.1255C112.4559,-347.7708 124.1016,-339.3355 133,-330 153.7008,-308.2824 197.4126,-231.3062 203,-210 211.0023,-179.4851 199.557,-143.195 190.964,-122.2563\"/>\n<text text-anchor=\"middle\" x=\"208.5\" y=\"-231.8\" font-family=\"Times,serif\" font-size=\"14.00\" fill=\"#000000\">1.32</text>\n</g>\n<!-- 4 -->\n<g id=\"node5\" class=\"node\">\n<title>4</title>\n<ellipse fill=\"none\" stroke=\"#000000\" cx=\"86\" cy=\"-18\" rx=\"27\" ry=\"18\"/>\n<text text-anchor=\"middle\" x=\"86\" y=\"-14.3\" font-family=\"Times,serif\" font-size=\"14.00\" fill=\"#000000\">4</text>\n</g>\n<!-- 0&#45;&#45;4 -->\n<g id=\"edge4\" class=\"edge\">\n<title>0&#45;&#45;4</title>\n<path fill=\"none\" stroke=\"#ff4500\" d=\"M60.4555,-355.0879C36.1603,-341.0722 0,-314.2848 0,-279 0,-279 0,-279 0,-105 0,-68.6828 38.3717,-42.0653 63.8529,-28.3933\"/>\n<text text-anchor=\"middle\" x=\"9.5\" y=\"-188.3\" font-family=\"Times,serif\" font-size=\"14.00\" fill=\"#000000\">0.6</text>\n</g>\n<!-- 1&#45;&#45;2 -->\n<g id=\"edge5\" class=\"edge\">\n<title>1&#45;&#45;2</title>\n<path fill=\"none\" stroke=\"#000000\" d=\"M118,-260.9735C118,-246.0422 118,-224.9283 118,-210.0034\"/>\n<text text-anchor=\"middle\" x=\"131.5\" y=\"-231.8\" font-family=\"Times,serif\" font-size=\"14.00\" fill=\"#000000\">0.81</text>\n</g>\n<!-- 1&#45;&#45;3 -->\n<g id=\"edge6\" class=\"edge\">\n<title>1&#45;&#45;3</title>\n<path fill=\"none\" stroke=\"#ff4500\" d=\"M133.6493,-264.0594C139.2141,-257.9941 145.0676,-250.6233 149,-243 169.4745,-203.3083 177.9931,-150.7579 181.2272,-123.3734\"/>\n<text text-anchor=\"middle\" x=\"185.5\" y=\"-188.3\" font-family=\"Times,serif\" font-size=\"14.00\" fill=\"#000000\">0.53</text>\n</g>\n<!-- 1&#45;&#45;4 -->\n<g id=\"edge7\" class=\"edge\">\n<title>1&#45;&#45;4</title>\n<path fill=\"none\" stroke=\"#000000\" d=\"M107.0322,-262.4869C98.6517,-248.975 87.615,-229.0518 82,-210 63.809,-148.2775 75.3201,-70.4931 82.0874,-35.9465\"/>\n<text text-anchor=\"middle\" x=\"85.5\" y=\"-144.8\" font-family=\"Times,serif\" font-size=\"14.00\" fill=\"#000000\">1.33</text>\n</g>\n<!-- 2&#45;&#45;3 -->\n<g id=\"edge8\" class=\"edge\">\n<title>2&#45;&#45;3</title>\n<path fill=\"none\" stroke=\"#ff4500\" d=\"M124.5922,-174.5316C128.9479,-164.2209 135.274,-151.2291 143,-141 149.194,-132.7992 157.4502,-124.9992 164.8529,-118.7698\"/>\n<text text-anchor=\"middle\" x=\"156.5\" y=\"-144.8\" font-family=\"Times,serif\" font-size=\"14.00\" fill=\"#000000\">0.67</text>\n</g>\n<!-- 2&#45;&#45;4 -->\n<g id=\"edge9\" class=\"edge\">\n<title>2&#45;&#45;4</title>\n<path fill=\"none\" stroke=\"#ff4500\" d=\"M114.696,-174.0343C108.548,-140.605 95.4204,-69.2232 89.2861,-35.868\"/>\n<text text-anchor=\"middle\" x=\"118.5\" y=\"-101.3\" font-family=\"Times,serif\" font-size=\"14.00\" fill=\"#000000\">1.27</text>\n</g>\n<!-- 3&#45;&#45;4 -->\n<g id=\"edge10\" class=\"edge\">\n<title>3&#45;&#45;4</title>\n<path fill=\"none\" stroke=\"#000000\" d=\"M166.5453,-90.2416C148.6001,-74.1465 120.0606,-48.5492 102.2117,-32.5404\"/>\n<text text-anchor=\"middle\" x=\"153.5\" y=\"-57.8\" font-family=\"Times,serif\" font-size=\"14.00\" fill=\"#000000\">1.68</text>\n</g>\n</g>\n</svg>\n"
          },
          "metadata": {
            "tags": []
          },
          "execution_count": 358
        }
      ]
    }
  ]
}